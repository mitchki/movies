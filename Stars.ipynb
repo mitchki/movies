{
 "cells": [
  {
   "cell_type": "markdown",
   "metadata": {},
   "source": [
    "This notebook is to create a new field num_stars in the movies database.  \n",
    "  \n",
    "The stars in question are academy award nominees leading and supporting actor and actress from the years before the movie was released (1990 and up).  The count was incremented for each  nomination of the first 3 actors listed for the film.  \n",
    "  \n",
    "The information was obtained from the official academy award database at http://awardsdatabase.oscars.org/ampas_awards/BasicSearchInput.jsp\n",
    "  "
   ]
  },
  {
   "cell_type": "code",
   "execution_count": 2,
   "metadata": {
    "collapsed": true
   },
   "outputs": [],
   "source": [
    "import pandas as pd\n",
    "import numpy as np\n",
    "import matplotlib.pyplot as plt\n",
    "import seaborn as sns\n",
    "from sklearn.feature_extraction.text import CountVectorizer\n",
    "\n",
    "%matplotlib inline"
   ]
  },
  {
   "cell_type": "code",
   "execution_count": 6,
   "metadata": {
    "collapsed": false
   },
   "outputs": [
    {
     "data": {
      "text/html": [
       "<div>\n",
       "<table border=\"1\" class=\"dataframe\">\n",
       "  <thead>\n",
       "    <tr style=\"text-align: right;\">\n",
       "      <th></th>\n",
       "      <th>year</th>\n",
       "      <th>actor</th>\n",
       "    </tr>\n",
       "  </thead>\n",
       "  <tbody>\n",
       "    <tr>\n",
       "      <th>0</th>\n",
       "      <td>2006</td>\n",
       "      <td>Adriana Barraza</td>\n",
       "    </tr>\n",
       "    <tr>\n",
       "      <th>1</th>\n",
       "      <td>2002</td>\n",
       "      <td>Adrien Brody</td>\n",
       "    </tr>\n",
       "    <tr>\n",
       "      <th>2</th>\n",
       "      <td>1990</td>\n",
       "      <td>Al Pacino</td>\n",
       "    </tr>\n",
       "    <tr>\n",
       "      <th>3</th>\n",
       "      <td>1992</td>\n",
       "      <td>Al Pacino</td>\n",
       "    </tr>\n",
       "    <tr>\n",
       "      <th>4</th>\n",
       "      <td>1992</td>\n",
       "      <td>Al Pacino</td>\n",
       "    </tr>\n",
       "  </tbody>\n",
       "</table>\n",
       "</div>"
      ],
      "text/plain": [
       "   year             actor\n",
       "0  2006  Adriana Barraza \n",
       "1  2002     Adrien Brody \n",
       "2  1990        Al Pacino \n",
       "3  1992        Al Pacino \n",
       "4  1992        Al Pacino "
      ]
     },
     "execution_count": 6,
     "metadata": {},
     "output_type": "execute_result"
    }
   ],
   "source": [
    "stars = pd.read_csv('academyAwardNominees.csv')\n",
    "stars.head()"
   ]
  },
  {
   "cell_type": "code",
   "execution_count": 30,
   "metadata": {
    "collapsed": false
   },
   "outputs": [
    {
     "data": {
      "text/plain": [
       "Index(['color', 'director_name', 'num_critic_for_reviews', 'duration',\n",
       "       'director_facebook_likes', 'actor_3_facebook_likes', 'actor_2_name',\n",
       "       'actor_1_facebook_likes', 'gross', 'genres', 'actor_1_name',\n",
       "       'movie_title', 'num_voted_users', 'cast_total_facebook_likes',\n",
       "       'actor_3_name', 'facenumber_in_poster', 'plot_keywords',\n",
       "       'movie_imdb_link', 'num_user_for_reviews', 'language', 'country',\n",
       "       'content_rating', 'budget', 'title_year', 'actor_2_facebook_likes',\n",
       "       'imdb_score', 'aspect_ratio', 'movie_facebook_likes', 'DomesticGross',\n",
       "       'Movie', 'ProductionBudget', 'ReleaseDate', 'WorldwideGross', 'ix'],\n",
       "      dtype='object')"
      ]
     },
     "execution_count": 30,
     "metadata": {},
     "output_type": "execute_result"
    }
   ],
   "source": [
    "movies = pd.read_pickle('movies_all.pkl')\n",
    "movies.set_index(['Movie'])\n",
    "#print(movies['actor_1_name'],movies['actor_2_name'],movies['actor_3_name'])\n",
    "movies.columns\n"
   ]
  },
  {
   "cell_type": "code",
   "execution_count": 58,
   "metadata": {
    "collapsed": false
   },
   "outputs": [],
   "source": [
    "movies['actor_1_name'] =  [str(actor).strip() for actor in movies['actor_1_name']]\n",
    "movies['actor_2_name'] =  [str(actor).strip() for actor in movies['actor_2_name']]\n",
    "movies['actor_3_name'] =  [str(actor).strip() for actor in movies['actor_3_name']]\n",
    "stars['actor'] =  [str(actor).strip() for actor in stars['actor']]"
   ]
  },
  {
   "cell_type": "code",
   "execution_count": 60,
   "metadata": {
    "collapsed": false
   },
   "outputs": [
    {
     "name": "stderr",
     "output_type": "stream",
     "text": [
      "/home/kmitchell/anaconda2/envs/py35/lib/python3.5/site-packages/ipykernel/__main__.py:4: SettingWithCopyWarning: \n",
      "A value is trying to be set on a copy of a slice from a DataFrame\n",
      "\n",
      "See the caveats in the documentation: http://pandas.pydata.org/pandas-docs/stable/indexing.html#indexing-view-versus-copy\n"
     ]
    },
    {
     "name": "stdout",
     "output_type": "stream",
     "text": [
      "0       0\n",
      "1       2\n",
      "2       2\n",
      "3       1\n",
      "4       2\n",
      "5       0\n",
      "6       0\n",
      "7       0\n",
      "8       2\n",
      "9       0\n",
      "10      0\n",
      "11      2\n",
      "12      0\n",
      "13      2\n",
      "14      5\n",
      "15      0\n",
      "16      0\n",
      "17      2\n",
      "18      2\n",
      "19      2\n",
      "20      2\n",
      "21      3\n",
      "22      2\n",
      "23      0\n",
      "24      0\n",
      "25      1\n",
      "26      0\n",
      "27      1\n",
      "28      1\n",
      "29      1\n",
      "       ..\n",
      "4508    0\n",
      "4509    0\n",
      "4510    0\n",
      "4511    0\n",
      "4512    0\n",
      "4513    0\n",
      "4514    0\n",
      "4515    0\n",
      "4516    0\n",
      "4517    0\n",
      "4518    0\n",
      "4519    0\n",
      "4520    0\n",
      "4521    0\n",
      "4522    0\n",
      "4523    0\n",
      "4524    0\n",
      "4525    0\n",
      "4526    0\n",
      "4527    0\n",
      "4528    0\n",
      "4529    0\n",
      "4530    0\n",
      "4531    0\n",
      "4532    0\n",
      "4533    0\n",
      "4534    0\n",
      "4535    0\n",
      "4536    0\n",
      "4537    0\n",
      "Name: num_stars, dtype: int64\n"
     ]
    }
   ],
   "source": [
    "movies['num_stars'] = 0\n",
    "for index, row in movies.iterrows():\n",
    "    stars_past = stars[stars['year']< row['title_year']]\n",
    "    movies['num_stars'][index] = list(stars_past['actor']).count(row['actor_1_name']) + list(stars_past['actor']).count(row['actor_2_name']) + list(stars_past['actor']).count(row['actor_3_name'])\n",
    "print(movies['num_stars'])\n",
    "    \n"
   ]
  },
  {
   "cell_type": "code",
   "execution_count": 63,
   "metadata": {
    "collapsed": false
   },
   "outputs": [
    {
     "data": {
      "text/plain": [
       "1846"
      ]
     },
     "execution_count": 63,
     "metadata": {},
     "output_type": "execute_result"
    }
   ],
   "source": [
    "movies['num_stars'].sum()"
   ]
  },
  {
   "cell_type": "code",
   "execution_count": 65,
   "metadata": {
    "collapsed": false
   },
   "outputs": [],
   "source": [
    "movies.to_pickle('movies_stars.pkl')"
   ]
  },
  {
   "cell_type": "code",
   "execution_count": 16,
   "metadata": {
    "collapsed": false
   },
   "outputs": [
    {
     "name": "stdout",
     "output_type": "stream",
     "text": [
      "<class 'pandas.core.frame.DataFrame'>\n",
      "RangeIndex: 519 entries, 0 to 518\n",
      "Data columns (total 2 columns):\n",
      "year     519 non-null int64\n",
      "actor    519 non-null object\n",
      "dtypes: int64(1), object(1)\n",
      "memory usage: 8.2+ KB\n"
     ]
    }
   ],
   "source": [
    "stars[stars['year']<2010]\n"
   ]
  },
  {
   "cell_type": "code",
   "execution_count": null,
   "metadata": {
    "collapsed": true
   },
   "outputs": [],
   "source": []
  }
 ],
 "metadata": {
  "kernelspec": {
   "display_name": "Python 3",
   "language": "python",
   "name": "python3"
  },
  "language_info": {
   "codemirror_mode": {
    "name": "ipython",
    "version": 3
   },
   "file_extension": ".py",
   "mimetype": "text/x-python",
   "name": "python",
   "nbconvert_exporter": "python",
   "pygments_lexer": "ipython3",
   "version": "3.5.2"
  }
 },
 "nbformat": 4,
 "nbformat_minor": 1
}
