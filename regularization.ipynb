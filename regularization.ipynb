{
 "cells": [
  {
   "cell_type": "code",
   "execution_count": 379,
   "metadata": {
    "collapsed": true
   },
   "outputs": [],
   "source": [
    "import numpy as np\n",
    "import pandas as pd"
   ]
  },
  {
   "cell_type": "code",
   "execution_count": 380,
   "metadata": {
    "collapsed": true
   },
   "outputs": [],
   "source": [
    "nobs = 1500"
   ]
  },
  {
   "cell_type": "code",
   "execution_count": 381,
   "metadata": {
    "collapsed": true
   },
   "outputs": [],
   "source": [
    "data_dic = {}"
   ]
  },
  {
   "cell_type": "code",
   "execution_count": 382,
   "metadata": {
    "collapsed": false
   },
   "outputs": [],
   "source": [
    "data_dic['a'] = np.random.randint(30,40,nobs)"
   ]
  },
  {
   "cell_type": "code",
   "execution_count": 383,
   "metadata": {
    "collapsed": true
   },
   "outputs": [],
   "source": [
    "b = np.random.randn(nobs)\n",
    "b_2 = np.power(b, 2)\n",
    "b_3 = np.power(b, 3)\n",
    "b_sin = np.sin(b)"
   ]
  },
  {
   "cell_type": "code",
   "execution_count": 384,
   "metadata": {
    "collapsed": true
   },
   "outputs": [],
   "source": [
    "data_dic['b'] = b\n",
    "data_dic['b_2'] = b_2\n",
    "data_dic['b_3'] = b_3\n",
    "data_dic['b_sin'] = b_sin"
   ]
  },
  {
   "cell_type": "code",
   "execution_count": 385,
   "metadata": {
    "collapsed": true
   },
   "outputs": [],
   "source": [
    "data_dic['c'] = np.random.beta(3,6,nobs)"
   ]
  },
  {
   "cell_type": "code",
   "execution_count": 386,
   "metadata": {
    "collapsed": false
   },
   "outputs": [],
   "source": [
    "data_dic['sqrt_a'] = np.sqrt(data_dic['a'])"
   ]
  },
  {
   "cell_type": "code",
   "execution_count": 387,
   "metadata": {
    "collapsed": false
   },
   "outputs": [],
   "source": [
    "data = pd.DataFrame(data_dic)"
   ]
  },
  {
   "cell_type": "code",
   "execution_count": 388,
   "metadata": {
    "collapsed": false
   },
   "outputs": [],
   "source": [
    "data['target'] = 2*data['sqrt_a'] + 0.1*data['b_2'] + 0.12 * data['b_sin']  - data['c'] + 0.1*np.random.randn(nobs)"
   ]
  },
  {
   "cell_type": "code",
   "execution_count": 389,
   "metadata": {
    "collapsed": false
   },
   "outputs": [
    {
     "data": {
      "text/html": [
       "<div>\n",
       "<table border=\"1\" class=\"dataframe\">\n",
       "  <thead>\n",
       "    <tr style=\"text-align: right;\">\n",
       "      <th></th>\n",
       "      <th>a</th>\n",
       "      <th>b</th>\n",
       "      <th>b_2</th>\n",
       "      <th>b_3</th>\n",
       "      <th>b_sin</th>\n",
       "      <th>c</th>\n",
       "      <th>sqrt_a</th>\n",
       "      <th>target</th>\n",
       "    </tr>\n",
       "  </thead>\n",
       "  <tbody>\n",
       "    <tr>\n",
       "      <th>0</th>\n",
       "      <td>35</td>\n",
       "      <td>1.415863</td>\n",
       "      <td>2.004669</td>\n",
       "      <td>2.838338</td>\n",
       "      <td>0.988022</td>\n",
       "      <td>0.183146</td>\n",
       "      <td>5.916080</td>\n",
       "      <td>12.010829</td>\n",
       "    </tr>\n",
       "    <tr>\n",
       "      <th>1</th>\n",
       "      <td>39</td>\n",
       "      <td>0.242372</td>\n",
       "      <td>0.058744</td>\n",
       "      <td>0.014238</td>\n",
       "      <td>0.240006</td>\n",
       "      <td>0.116084</td>\n",
       "      <td>6.244998</td>\n",
       "      <td>12.554481</td>\n",
       "    </tr>\n",
       "    <tr>\n",
       "      <th>2</th>\n",
       "      <td>31</td>\n",
       "      <td>-0.475096</td>\n",
       "      <td>0.225716</td>\n",
       "      <td>-0.107237</td>\n",
       "      <td>-0.457424</td>\n",
       "      <td>0.331811</td>\n",
       "      <td>5.567764</td>\n",
       "      <td>10.867355</td>\n",
       "    </tr>\n",
       "    <tr>\n",
       "      <th>3</th>\n",
       "      <td>35</td>\n",
       "      <td>-1.176812</td>\n",
       "      <td>1.384887</td>\n",
       "      <td>-1.629751</td>\n",
       "      <td>-0.923387</td>\n",
       "      <td>0.423555</td>\n",
       "      <td>5.916080</td>\n",
       "      <td>11.436638</td>\n",
       "    </tr>\n",
       "    <tr>\n",
       "      <th>4</th>\n",
       "      <td>38</td>\n",
       "      <td>-0.340062</td>\n",
       "      <td>0.115642</td>\n",
       "      <td>-0.039326</td>\n",
       "      <td>-0.333546</td>\n",
       "      <td>0.257380</td>\n",
       "      <td>6.164414</td>\n",
       "      <td>11.960898</td>\n",
       "    </tr>\n",
       "  </tbody>\n",
       "</table>\n",
       "</div>"
      ],
      "text/plain": [
       "    a         b       b_2       b_3     b_sin         c    sqrt_a     target\n",
       "0  35  1.415863  2.004669  2.838338  0.988022  0.183146  5.916080  12.010829\n",
       "1  39  0.242372  0.058744  0.014238  0.240006  0.116084  6.244998  12.554481\n",
       "2  31 -0.475096  0.225716 -0.107237 -0.457424  0.331811  5.567764  10.867355\n",
       "3  35 -1.176812  1.384887 -1.629751 -0.923387  0.423555  5.916080  11.436638\n",
       "4  38 -0.340062  0.115642 -0.039326 -0.333546  0.257380  6.164414  11.960898"
      ]
     },
     "execution_count": 389,
     "metadata": {},
     "output_type": "execute_result"
    }
   ],
   "source": [
    "data.head()"
   ]
  },
  {
   "cell_type": "code",
   "execution_count": 390,
   "metadata": {
    "collapsed": false
   },
   "outputs": [],
   "source": [
    "data.to_csv('data.csv')"
   ]
  },
  {
   "cell_type": "markdown",
   "metadata": {},
   "source": [
    "## Find the model"
   ]
  },
  {
   "cell_type": "code",
   "execution_count": 391,
   "metadata": {
    "collapsed": true
   },
   "outputs": [],
   "source": [
    "target = data['target']"
   ]
  },
  {
   "cell_type": "code",
   "execution_count": 392,
   "metadata": {
    "collapsed": true
   },
   "outputs": [],
   "source": [
    "predictors = data.drop('target', 1)"
   ]
  },
  {
   "cell_type": "code",
   "execution_count": 393,
   "metadata": {
    "collapsed": true
   },
   "outputs": [],
   "source": [
    "from sklearn import cross_validation, datasets\n",
    "import matplotlib.pyplot as plt\n",
    "%matplotlib inline"
   ]
  },
  {
   "cell_type": "code",
   "execution_count": 394,
   "metadata": {
    "collapsed": false
   },
   "outputs": [],
   "source": [
    "# def scatter_matrix(X):\n",
    "#     feature_count = len(X.columns)\n",
    "#     fig,ax = plt.subplots(ncols=feature_count,nrows=feature_count,figsize=(10*feature_count, 10*feature_count))\n",
    "\n",
    "#     for i,feature_i in enumerate(X):\n",
    "#         for j,feature_j in enumerate(X):\n",
    "#             ax[i][j].scatter(X[feature_i],X[feature_j])\n",
    "#             ax[i][j].set_xlabel('Feature ' + str(feature_j))\n",
    "#             ax[i][j].set_ylabel('Feature ' + str(feature_i))\n",
    "\n",
    "# scatter_matrix(data)"
   ]
  },
  {
   "cell_type": "code",
   "execution_count": 395,
   "metadata": {
    "collapsed": true
   },
   "outputs": [],
   "source": [
    "X_train, X_test, y_train, y_test = cross_validation.train_test_split(\n",
    "                                        predictors, target, test_size=0.3)"
   ]
  },
  {
   "cell_type": "code",
   "execution_count": 396,
   "metadata": {
    "collapsed": true
   },
   "outputs": [],
   "source": [
    "from sklearn import linear_model"
   ]
  },
  {
   "cell_type": "code",
   "execution_count": 397,
   "metadata": {
    "collapsed": true
   },
   "outputs": [],
   "source": [
    "models = {}\n",
    "models['lin_reg'] = linear_model.LinearRegression()\n",
    "models['ridge'] = linear_model.Ridge()\n",
    "models['lasso'] = linear_model.Lasso(alpha=.002)\n",
    "models['elasticnet'] = linear_model.ElasticNet()"
   ]
  },
  {
   "cell_type": "code",
   "execution_count": 398,
   "metadata": {
    "collapsed": false,
    "scrolled": true
   },
   "outputs": [
    {
     "name": "stdout",
     "output_type": "stream",
     "text": [
      "Model: elasticnet\n",
      "Score: 0.663274621874\n",
      "('a', 0.10131402651220529)\n",
      "('b', 0.0)\n",
      "('b_2', 0.0)\n",
      "('b_3', 0.0)\n",
      "('b_sin', 0.0)\n",
      "('c', -0.0)\n",
      "('sqrt_a', 0.0)\n",
      "\n",
      "Model: ridge\n",
      "Score: 0.968801744274\n",
      "('c', -0.95374249077522089)\n",
      "('a', 0.16563819053788192)\n",
      "('b_sin', 0.1200894346675829)\n",
      "('b_2', 0.095756176193697348)\n",
      "('sqrt_a', 0.048297149378422631)\n",
      "('b', 0.001484768179614452)\n",
      "('b_3', -0.00086379507955929805)\n",
      "\n",
      "Model: lin_reg\n",
      "Score: 0.969662634002\n",
      "('sqrt_a', 1.6906970913803507)\n",
      "('c', -0.9958359311502526)\n",
      "('b_sin', 0.18934266303485578)\n",
      "('b_2', 0.095602711122214273)\n",
      "('b', -0.062543741916802217)\n",
      "('a', 0.025504270359696123)\n",
      "('b_3', 0.0065798982389769032)\n",
      "\n",
      "Model: lasso\n",
      "Score: 0.968161066859\n",
      "('c', -0.903916188745153)\n",
      "('a', 0.1695641822384982)\n",
      "('b_sin', 0.11511999044303113)\n",
      "('b_2', 0.094670716775879502)\n",
      "('b', 0.0)\n",
      "('b_3', -0.0)\n",
      "('sqrt_a', 0.0)\n",
      "\n"
     ]
    }
   ],
   "source": [
    "X_train, X_test, y_train, y_test = cross_validation.train_test_split(\n",
    "                                        predictors, target, test_size=0.3)\n",
    "\n",
    "for name,model in models.iteritems():\n",
    "    model.fit(X_train,y_train)\n",
    "    print('Model: '+name)\n",
    "    print(\"Score: \" + str(model.score(X_test,y_test)))\n",
    "    sorted_features = sorted(zip(predictors,model.coef_), key=lambda tup: abs(tup[1]), reverse=True)\n",
    "    for feature in sorted_features:\n",
    "        print(feature)\n",
    "        \n",
    "    print(\"\")"
   ]
  },
  {
   "cell_type": "code",
   "execution_count": 399,
   "metadata": {
    "collapsed": true
   },
   "outputs": [],
   "source": [
    "# model.score?"
   ]
  },
  {
   "cell_type": "code",
   "execution_count": 400,
   "metadata": {
    "collapsed": false
   },
   "outputs": [],
   "source": [
    "# cross_validation.ShuffleSplit()"
   ]
  },
  {
   "cell_type": "code",
   "execution_count": 401,
   "metadata": {
    "collapsed": false
   },
   "outputs": [
    {
     "name": "stdout",
     "output_type": "stream",
     "text": [
      "Model: elasticnet\n",
      "[ 0.67752636  0.66673424  0.73034285  0.63609179  0.70031561  0.69384961\n",
      "  0.65854491  0.64555668  0.66693146  0.66319582]\n",
      "Score: 0.673908931574 with STD: 0.0264155018591\n",
      "('a', 0.10131402651220529)\n",
      "('b', 0.0)\n",
      "('b_2', 0.0)\n",
      "('b_3', 0.0)\n",
      "('b_sin', 0.0)\n",
      "('c', -0.0)\n",
      "('sqrt_a', 0.0)\n",
      "\n",
      "Model: ridge\n",
      "[ 0.97042593  0.97146335  0.95940112  0.97168507  0.96550999  0.9612637\n",
      "  0.96664623  0.96925424  0.96704625  0.9706288 ]\n",
      "Score: 0.967332468413 with STD: 0.00404658475965\n",
      "('c', -0.95374249077522089)\n",
      "('a', 0.16563819053788192)\n",
      "('b_sin', 0.1200894346675829)\n",
      "('b_2', 0.095756176193697348)\n",
      "('sqrt_a', 0.048297149378422631)\n",
      "('b', 0.001484768179614452)\n",
      "('b_3', -0.00086379507955929805)\n",
      "\n",
      "Model: lin_reg\n",
      "[ 0.95816943  0.96731721  0.97438685  0.97209216  0.96608136  0.96500742\n",
      "  0.95786431  0.9683246   0.96568287  0.9635683 ]\n",
      "Score: 0.965849451811 with STD: 0.00498877459806\n",
      "('sqrt_a', 1.6906970913803507)\n",
      "('c', -0.9958359311502526)\n",
      "('b_sin', 0.18934266303485578)\n",
      "('b_2', 0.095602711122214273)\n",
      "('b', -0.062543741916802217)\n",
      "('a', 0.025504270359696123)\n",
      "('b_3', 0.0065798982389769032)\n",
      "\n",
      "Model: lasso\n",
      "[ 0.95208717  0.96676529  0.95920177  0.96533616  0.96921777  0.96196337\n",
      "  0.95813482  0.96877944  0.97263158  0.95832266]\n",
      "Score: 0.963244002788 with STD: 0.00603330855884\n",
      "('c', -0.903916188745153)\n",
      "('a', 0.1695641822384982)\n",
      "('b_sin', 0.11511999044303113)\n",
      "('b_2', 0.094670716775879502)\n",
      "('b', 0.0)\n",
      "('b_3', -0.0)\n",
      "('sqrt_a', 0.0)\n",
      "\n"
     ]
    }
   ],
   "source": [
    "shuffler = cross_validation.ShuffleSplit(nobs)\n",
    "\n",
    "\n",
    "for name,model in models.iteritems():\n",
    "    score = cross_validation.cross_val_score(model, predictors, target, n_jobs=1, cv=shuffler)\n",
    "    print('Model: ' + name)\n",
    "    print(score)\n",
    "    print(\"Score: \" + str(np.mean(score)) + \" with STD: \" + str(np.std(score)))\n",
    "    sorted_features = sorted(zip(predictors,model.coef_), key=lambda tup: abs(tup[1]), reverse=True)\n",
    "    for feature in sorted_features:\n",
    "        print(feature)\n",
    "        \n",
    "    print(\"\")"
   ]
  },
  {
   "cell_type": "code",
   "execution_count": 402,
   "metadata": {
    "collapsed": true
   },
   "outputs": [],
   "source": [
    "from sklearn import cross_validation\n",
    "\n",
    "import matplotlib.pyplot as plt\n",
    "%matplotlib inline\n",
    "\n",
    "def plot_overfit(X,y,model_obj,param_ranges,param_static=None): \n",
    "    for parameter,parameter_range in param_ranges.iteritems():\n",
    "        avg_train_score, avg_test_score = [],[]\n",
    "        std_train_score, std_test_score = [],[]\n",
    "        \n",
    "        for param_val in parameter_range:\n",
    "            param = {parameter:param_val}\n",
    "            if param_static:\n",
    "                param.update(param_static)\n",
    "                \n",
    "            model = model_obj(**param)\n",
    "            \n",
    "            train_scores,test_scores = [],[]\n",
    "            for i in range(5):\n",
    "                X_train,X_test,y_train,y_test = cross_validation.train_test_split(X,y,test_size = .5)\n",
    "                model.fit(X_train,y_train)\n",
    "                \n",
    "                train_scores.append(model.score(X_train,y_train))\n",
    "                test_scores.append(model.score(X_test,y_test))\n",
    "            \n",
    "            avg_train_score.append(np.mean(train_scores))\n",
    "            avg_test_score.append(np.mean(test_scores))\n",
    "            \n",
    "            std_train_score.append(np.std(train_scores))\n",
    "            std_test_score.append(np.std(test_scores))\n",
    "            \n",
    "        fig,ax = plt.subplots()\n",
    "        ax.errorbar(parameter_range,avg_train_score,yerr=std_train_score,label='training score')\n",
    "        ax.errorbar(parameter_range,avg_test_score,yerr=std_test_score,label='testing score')\n",
    "        \n",
    "        ax.set_xlabel(parameter)\n",
    "        ax.set_ylabel('score')\n",
    "        ax.legend(loc=0)"
   ]
  },
  {
   "cell_type": "code",
   "execution_count": 403,
   "metadata": {
    "collapsed": false
   },
   "outputs": [
    {
     "data": {
      "image/png": "[encoded data removed]",
      "text/plain": [
       "<matplotlib.figure.Figure at 0x12b6f2cd0>"
      ]
     },
     "metadata": {},
     "output_type": "display_data"
    }
   ],
   "source": [
    "lasso = linear_model.Lasso\n",
    "plot_overfit(predictors, target,lasso,{'alpha':np.logspace(-4,1,80)})"
   ]
  },
  {
   "cell_type": "code",
   "execution_count": 404,
   "metadata": {
    "collapsed": false
   },
   "outputs": [
    {
     "data": {
      "image/png": "[encoded data removed]",
      "text/plain": [
       "<matplotlib.figure.Figure at 0x12b6dbd50>"
      ]
     },
     "metadata": {},
     "output_type": "display_data"
    }
   ],
   "source": [
    "lasso = linear_model.Lasso\n",
    "plot_overfit(predictors, target,lasso,{'alpha':np.logspace(-4,0,80)})"
   ]
  },
  {
   "cell_type": "code",
   "execution_count": 405,
   "metadata": {
    "collapsed": false
   },
   "outputs": [
    {
     "data": {
      "image/png": "[encoded data removed]",
      "text/plain": [
       "<matplotlib.figure.Figure at 0x12bdeffd0>"
      ]
     },
     "metadata": {},
     "output_type": "display_data"
    }
   ],
   "source": [
    "lasso = linear_model.Lasso\n",
    "plot_overfit(predictors, target,lasso,{'alpha':np.logspace(-4,-.1,80)})"
   ]
  },
  {
   "cell_type": "code",
   "execution_count": 406,
   "metadata": {
    "collapsed": false
   },
   "outputs": [
    {
     "data": {
      "image/png": "[encoded data removed]",
      "text/plain": [
       "<matplotlib.figure.Figure at 0x12bdd3050>"
      ]
     },
     "metadata": {},
     "output_type": "display_data"
    }
   ],
   "source": [
    "ridge = linear_model.Ridge\n",
    "plot_overfit(predictors, target,ridge,{'alpha':np.logspace(-4,-1,80)})"
   ]
  },
  {
   "cell_type": "code",
   "execution_count": 407,
   "metadata": {
    "collapsed": false
   },
   "outputs": [
    {
     "data": {
      "image/png": "[encoded data removed]",
      "text/plain": [
       "<matplotlib.figure.Figure at 0x12c1af110>"
      ]
     },
     "metadata": {},
     "output_type": "display_data"
    }
   ],
   "source": [
    "elastic = linear_model.ElasticNet\n",
    "plot_overfit(predictors, target,elastic,{'alpha':np.logspace(-4,0,50)})"
   ]
  },
  {
   "cell_type": "code",
   "execution_count": 408,
   "metadata": {
    "collapsed": false
   },
   "outputs": [
    {
     "data": {
      "image/png": "[encoded data removed]",
      "text/plain": [
       "<matplotlib.figure.Figure at 0x11ffe5310>"
      ]
     },
     "metadata": {},
     "output_type": "display_data"
    }
   ],
   "source": [
    "elastic = linear_model.ElasticNet\n",
    "plot_overfit(predictors, target,elastic,{'l1_ratio':np.arange(0.1,0.99,.01)})"
   ]
  },
  {
   "cell_type": "code",
   "execution_count": 409,
   "metadata": {
    "collapsed": true
   },
   "outputs": [],
   "source": [
    "from sklearn import grid_search"
   ]
  },
  {
   "cell_type": "code",
   "execution_count": 410,
   "metadata": {
    "collapsed": false
   },
   "outputs": [
    {
     "data": {
      "text/plain": [
       "GridSearchCV(cv=None, error_score='raise',\n",
       "       estimator=Lasso(alpha=1.0, copy_X=True, fit_intercept=True, max_iter=1000,\n",
       "   normalize=False, positive=False, precompute=False, random_state=None,\n",
       "   selection='cyclic', tol=0.0001, warm_start=False),\n",
       "       fit_params={}, iid=True, n_jobs=1,\n",
       "       param_grid={'normalize': (True, False), 'alpha': array([  1.00000e-04,   1.36296e-04,   1.85766e-04,   2.53191e-04,\n",
       "         3.45089e-04,   4.70342e-04,   6.41057e-04,   8.73734e-04,\n",
       "         1.19086e-03,   1.62310e-03,   2.21222e-03,   3.01516e-03,\n",
       "         4.10954e-03,   5.60113e-03,   7.63411e-03...    1.68883e-01,   2.30181e-01,   3.13727e-01,   4.27597e-01,\n",
       "         5.82797e-01,   7.94328e-01])},\n",
       "       pre_dispatch='2*n_jobs', refit=True, scoring=None, verbose=0)"
      ]
     },
     "execution_count": 410,
     "metadata": {},
     "output_type": "execute_result"
    }
   ],
   "source": [
    "lasso = linear_model.Lasso()\n",
    "\n",
    "parameters = {'normalize':(True,False),\n",
    "              'alpha':np.logspace(-4,-.1,30)}\n",
    "grid_searcher = grid_search.GridSearchCV(lasso, parameters)\n",
    "grid_searcher.fit(predictors, target)"
   ]
  },
  {
   "cell_type": "code",
   "execution_count": 411,
   "metadata": {
    "collapsed": false
   },
   "outputs": [
    {
     "data": {
      "text/plain": [
       "{'alpha': 0.0001, 'normalize': True}"
      ]
     },
     "execution_count": 411,
     "metadata": {},
     "output_type": "execute_result"
    }
   ],
   "source": [
    "grid_searcher.best_params_"
   ]
  },
  {
   "cell_type": "code",
   "execution_count": 412,
   "metadata": {
    "collapsed": true
   },
   "outputs": [],
   "source": [
    "best_model = grid_searcher.best_estimator_"
   ]
  },
  {
   "cell_type": "code",
   "execution_count": 413,
   "metadata": {
    "collapsed": false
   },
   "outputs": [
    {
     "data": {
      "text/plain": [
       "array([ 0.1173985 ,  0.        ,  0.09489885,  0.        ,  0.11190682,\n",
       "       -0.97785961,  0.60706067])"
      ]
     },
     "execution_count": 413,
     "metadata": {},
     "output_type": "execute_result"
    }
   ],
   "source": [
    "best_model.coef_"
   ]
  },
  {
   "cell_type": "code",
   "execution_count": 414,
   "metadata": {
    "collapsed": false
   },
   "outputs": [
    {
     "data": {
      "text/plain": [
       "0.96935006117365252"
      ]
     },
     "execution_count": 414,
     "metadata": {},
     "output_type": "execute_result"
    }
   ],
   "source": [
    "best_model.score(X_test,y_test)"
   ]
  },
  {
   "cell_type": "code",
   "execution_count": 415,
   "metadata": {
    "collapsed": false
   },
   "outputs": [
    {
     "data": {
      "text/plain": [
       "Lasso(alpha=0.0001, copy_X=True, fit_intercept=True, max_iter=1000,\n",
       "   normalize=True, positive=False, precompute=False, random_state=None,\n",
       "   selection='cyclic', tol=0.0001, warm_start=False)"
      ]
     },
     "execution_count": 415,
     "metadata": {},
     "output_type": "execute_result"
    }
   ],
   "source": [
    "best_model"
   ]
  },
  {
   "cell_type": "code",
   "execution_count": 416,
   "metadata": {
    "collapsed": true
   },
   "outputs": [],
   "source": [
    "import statsmodels.api as sm"
   ]
  },
  {
   "cell_type": "code",
   "execution_count": 417,
   "metadata": {
    "collapsed": false
   },
   "outputs": [],
   "source": [
    "\n",
    "predictors = sm.add_constant(predictors)\n"
   ]
  },
  {
   "cell_type": "code",
   "execution_count": 418,
   "metadata": {
    "collapsed": false
   },
   "outputs": [],
   "source": [
    "model = sm.OLS(target, predictors)\n",
    "results = model.fit()"
   ]
  },
  {
   "cell_type": "code",
   "execution_count": 419,
   "metadata": {
    "collapsed": false
   },
   "outputs": [
    {
     "data": {
      "text/plain": [
       "const    -0.053064\n",
       "a        -0.001763\n",
       "b        -0.076892\n",
       "b_2       0.097270\n",
       "b_3       0.009022\n",
       "b_sin     0.200257\n",
       "c        -1.002776\n",
       "sqrt_a    2.019904\n",
       "dtype: float64"
      ]
     },
     "execution_count": 419,
     "metadata": {},
     "output_type": "execute_result"
    }
   ],
   "source": [
    "results.params"
   ]
  },
  {
   "cell_type": "code",
   "execution_count": 420,
   "metadata": {
    "collapsed": false
   },
   "outputs": [
    {
     "data": {
      "text/html": [
       "<div>\n",
       "<table border=\"1\" class=\"dataframe\">\n",
       "  <thead>\n",
       "    <tr style=\"text-align: right;\">\n",
       "      <th></th>\n",
       "      <th>const</th>\n",
       "      <th>a</th>\n",
       "      <th>b</th>\n",
       "      <th>b_2</th>\n",
       "      <th>b_3</th>\n",
       "      <th>b_sin</th>\n",
       "      <th>c</th>\n",
       "      <th>sqrt_a</th>\n",
       "    </tr>\n",
       "  </thead>\n",
       "  <tbody>\n",
       "    <tr>\n",
       "      <th>0</th>\n",
       "      <td>1</td>\n",
       "      <td>35</td>\n",
       "      <td>1.415863</td>\n",
       "      <td>2.004669</td>\n",
       "      <td>2.838338</td>\n",
       "      <td>0.988022</td>\n",
       "      <td>0.183146</td>\n",
       "      <td>5.916080</td>\n",
       "    </tr>\n",
       "    <tr>\n",
       "      <th>1</th>\n",
       "      <td>1</td>\n",
       "      <td>39</td>\n",
       "      <td>0.242372</td>\n",
       "      <td>0.058744</td>\n",
       "      <td>0.014238</td>\n",
       "      <td>0.240006</td>\n",
       "      <td>0.116084</td>\n",
       "      <td>6.244998</td>\n",
       "    </tr>\n",
       "    <tr>\n",
       "      <th>2</th>\n",
       "      <td>1</td>\n",
       "      <td>31</td>\n",
       "      <td>-0.475096</td>\n",
       "      <td>0.225716</td>\n",
       "      <td>-0.107237</td>\n",
       "      <td>-0.457424</td>\n",
       "      <td>0.331811</td>\n",
       "      <td>5.567764</td>\n",
       "    </tr>\n",
       "    <tr>\n",
       "      <th>3</th>\n",
       "      <td>1</td>\n",
       "      <td>35</td>\n",
       "      <td>-1.176812</td>\n",
       "      <td>1.384887</td>\n",
       "      <td>-1.629751</td>\n",
       "      <td>-0.923387</td>\n",
       "      <td>0.423555</td>\n",
       "      <td>5.916080</td>\n",
       "    </tr>\n",
       "    <tr>\n",
       "      <th>4</th>\n",
       "      <td>1</td>\n",
       "      <td>38</td>\n",
       "      <td>-0.340062</td>\n",
       "      <td>0.115642</td>\n",
       "      <td>-0.039326</td>\n",
       "      <td>-0.333546</td>\n",
       "      <td>0.257380</td>\n",
       "      <td>6.164414</td>\n",
       "    </tr>\n",
       "  </tbody>\n",
       "</table>\n",
       "</div>"
      ],
      "text/plain": [
       "   const   a         b       b_2       b_3     b_sin         c    sqrt_a\n",
       "0      1  35  1.415863  2.004669  2.838338  0.988022  0.183146  5.916080\n",
       "1      1  39  0.242372  0.058744  0.014238  0.240006  0.116084  6.244998\n",
       "2      1  31 -0.475096  0.225716 -0.107237 -0.457424  0.331811  5.567764\n",
       "3      1  35 -1.176812  1.384887 -1.629751 -0.923387  0.423555  5.916080\n",
       "4      1  38 -0.340062  0.115642 -0.039326 -0.333546  0.257380  6.164414"
      ]
     },
     "execution_count": 420,
     "metadata": {},
     "output_type": "execute_result"
    }
   ],
   "source": [
    "predictors.head()"
   ]
  },
  {
   "cell_type": "code",
   "execution_count": 421,
   "metadata": {
    "collapsed": false
   },
   "outputs": [
    {
     "name": "stdout",
     "output_type": "stream",
     "text": [
      "                            OLS Regression Results                            \n",
      "==============================================================================\n",
      "Dep. Variable:                 target   R-squared:                       0.967\n",
      "Model:                            OLS   Adj. R-squared:                  0.966\n",
      "Method:                 Least Squares   F-statistic:                     6178.\n",
      "Date:                Fri, 30 Sep 2016   Prob (F-statistic):               0.00\n",
      "Time:                        10:44:50   Log-Likelihood:                 1343.5\n",
      "No. Observations:                1500   AIC:                            -2671.\n",
      "Df Residuals:                    1492   BIC:                            -2628.\n",
      "Df Model:                           7                                         \n",
      "Covariance Type:            nonrobust                                         \n",
      "==============================================================================\n",
      "                 coef    std err          t      P>|t|      [95.0% Conf. Int.]\n",
      "------------------------------------------------------------------------------\n",
      "const         -0.0531      1.664     -0.032      0.975        -3.317     3.210\n",
      "a             -0.0018      0.049     -0.036      0.971        -0.097     0.093\n",
      "b             -0.0769      0.051     -1.509      0.131        -0.177     0.023\n",
      "b_2            0.0973      0.002     53.387      0.000         0.094     0.101\n",
      "b_3            0.0090      0.006      1.546      0.122        -0.002     0.020\n",
      "b_sin          0.2003      0.055      3.618      0.000         0.092     0.309\n",
      "c             -1.0028      0.017    -58.415      0.000        -1.036    -0.969\n",
      "sqrt_a         2.0199      0.569      3.553      0.000         0.905     3.135\n",
      "==============================================================================\n",
      "Omnibus:                        0.158   Durbin-Watson:                   1.990\n",
      "Prob(Omnibus):                  0.924   Jarque-Bera (JB):                0.100\n",
      "Skew:                          -0.011   Prob(JB):                        0.951\n",
      "Kurtosis:                       3.034   Cond. No.                     2.41e+04\n",
      "==============================================================================\n",
      "\n",
      "Warnings:\n",
      "[1] Standard Errors assume that the covariance matrix of the errors is correctly specified.\n",
      "[2] The condition number is large, 2.41e+04. This might indicate that there are\n",
      "strong multicollinearity or other numerical problems.\n"
     ]
    }
   ],
   "source": [
    "print results.summary()"
   ]
  },
  {
   "cell_type": "code",
   "execution_count": null,
   "metadata": {
    "collapsed": true
   },
   "outputs": [],
   "source": []
  }
 ],
 "metadata": {
  "anaconda-cloud": {},
  "kernelspec": {
   "display_name": "Python 3",
   "language": "python",
   "name": "python3"
  },
  "language_info": {
   "codemirror_mode": {
    "name": "ipython",
    "version": 3
   },
   "file_extension": ".py",
   "mimetype": "text/x-python",
   "name": "python",
   "nbconvert_exporter": "python",
   "pygments_lexer": "ipython3",
   "version": "3.5.2"
  }
 },
 "nbformat": 4,
 "nbformat_minor": 0
}
